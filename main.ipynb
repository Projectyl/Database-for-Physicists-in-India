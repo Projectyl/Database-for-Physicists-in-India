{
 "cells": [
  {
   "cell_type": "markdown",
   "id": "31cb4a42-33a3-4a87-a31e-6eba13a95aa7",
   "metadata": {},
   "source": [
    "# Database Creator"
   ]
  },
  {
   "cell_type": "code",
   "execution_count": 24,
   "id": "810cda9b-edb1-4c51-a1b0-531c1f83ed1a",
   "metadata": {
    "execution": {
     "iopub.execute_input": "2022-02-22T14:07:49.975226Z",
     "iopub.status.busy": "2022-02-22T14:07:49.974759Z",
     "iopub.status.idle": "2022-02-22T14:07:49.996989Z",
     "shell.execute_reply": "2022-02-22T14:07:49.996463Z",
     "shell.execute_reply.started": "2022-02-22T14:07:49.975181Z"
    },
    "tags": []
   },
   "outputs": [],
   "source": [
    "# All imports go here\n",
    "\n",
    "import os\n",
    "import sys\n",
    "import yaml\n",
    "import requests\n",
    "from bs4 import BeautifulSoup\n",
    "import csv\n",
    "import wget\n",
    "from tqdm import tqdm\n",
    "import time\n",
    "from write_data import *\n",
    "from get_category import *\n",
    "from get_new_cats import *\n",
    "from iiserk import iiserk\n",
    "from iitkgp import *\n",
    "\n",
    "# headings of each CSV file\n",
    "headings = ['Name', 'Institute', 'Designation', 'Interests', 'Homepage', 'Email']\n",
    "\n",
    "# path of various files and folders\n",
    "folder = \"./physics_database/\"\n",
    "if not os.path.exists(folder): os.mkdir(folder)\n",
    "category_file = \"category_file.yml\"\n",
    "categories = yaml.safe_load(open(folder + category_file, 'r'))"
   ]
  },
  {
   "cell_type": "markdown",
   "id": "ae44840f-022e-47b8-844a-9f904c3e089b",
   "metadata": {},
   "source": [
    "# Dump results into files\n",
    "\n",
    "**WARNING: Existing files are overwritten at present.**"
   ]
  },
  {
   "cell_type": "code",
   "execution_count": 14,
   "id": "97e13e82-6801-4f51-9c25-fc2cc3ebfaa7",
   "metadata": {
    "execution": {
     "iopub.execute_input": "2022-02-21T18:51:00.905120Z",
     "iopub.status.busy": "2022-02-21T18:51:00.904295Z",
     "iopub.status.idle": "2022-02-21T18:51:00.919202Z",
     "shell.execute_reply": "2022-02-21T18:51:00.918019Z",
     "shell.execute_reply.started": "2022-02-21T18:51:00.905066Z"
    },
    "tags": []
   },
   "outputs": [
    {
     "ename": "NameError",
     "evalue": "name 'BeautifulSoup' is not defined",
     "output_type": "error",
     "traceback": [
      "\u001b[0;31m---------------------------------------------------------------------------\u001b[0m",
      "\u001b[0;31mNameError\u001b[0m                                 Traceback (most recent call last)",
      "\u001b[0;32m/tmp/ipykernel_1550/1903315502.py\u001b[0m in \u001b[0;36m<module>\u001b[0;34m\u001b[0m\n\u001b[1;32m      1\u001b[0m \u001b[0minsti_names\u001b[0m \u001b[0;34m=\u001b[0m \u001b[0;34m[\u001b[0m\u001b[0;34m'iiser_k'\u001b[0m\u001b[0;34m,\u001b[0m \u001b[0;34m'iit_kgp'\u001b[0m\u001b[0;34m]\u001b[0m\u001b[0;34m\u001b[0m\u001b[0;34m\u001b[0m\u001b[0m\n\u001b[0;32m----> 2\u001b[0;31m \u001b[0minsti_data\u001b[0m \u001b[0;34m=\u001b[0m \u001b[0;34m[\u001b[0m\u001b[0miiserk\u001b[0m\u001b[0;34m(\u001b[0m\u001b[0;34m)\u001b[0m\u001b[0;34m,\u001b[0m \u001b[0miitkgp\u001b[0m\u001b[0;34m(\u001b[0m\u001b[0;34m)\u001b[0m\u001b[0;34m]\u001b[0m\u001b[0;34m\u001b[0m\u001b[0;34m\u001b[0m\u001b[0m\n\u001b[0m",
      "\u001b[0;32m~/storage/scientists_database/iiserk.py\u001b[0m in \u001b[0;36miiserk\u001b[0;34m()\u001b[0m\n\u001b[1;32m      1\u001b[0m \u001b[0;32mdef\u001b[0m \u001b[0miiserk\u001b[0m\u001b[0;34m(\u001b[0m\u001b[0;34m)\u001b[0m\u001b[0;34m:\u001b[0m\u001b[0;34m\u001b[0m\u001b[0;34m\u001b[0m\u001b[0m\n\u001b[1;32m      2\u001b[0m     \u001b[0murl\u001b[0m \u001b[0;34m=\u001b[0m \u001b[0;34m\"https://www.iiserkol.ac.in/web/en/people/faculty/dps/#gsc.tab=0\"\u001b[0m\u001b[0;34m\u001b[0m\u001b[0;34m\u001b[0m\u001b[0m\n\u001b[0;32m----> 3\u001b[0;31m     \u001b[0msoup\u001b[0m \u001b[0;34m=\u001b[0m \u001b[0mBeautifulSoup\u001b[0m\u001b[0;34m(\u001b[0m\u001b[0mrequests\u001b[0m\u001b[0;34m.\u001b[0m\u001b[0mget\u001b[0m\u001b[0;34m(\u001b[0m\u001b[0murl\u001b[0m\u001b[0;34m)\u001b[0m\u001b[0;34m.\u001b[0m\u001b[0mcontent\u001b[0m\u001b[0;34m,\u001b[0m \u001b[0mfeatures\u001b[0m\u001b[0;34m=\u001b[0m\u001b[0;34m'lxml'\u001b[0m\u001b[0;34m)\u001b[0m\u001b[0;34m\u001b[0m\u001b[0;34m\u001b[0m\u001b[0m\n\u001b[0m\u001b[1;32m      4\u001b[0m     \u001b[0mprof_details\u001b[0m \u001b[0;34m=\u001b[0m \u001b[0;34m[\u001b[0m\u001b[0;34m]\u001b[0m\u001b[0;34m\u001b[0m\u001b[0;34m\u001b[0m\u001b[0m\n\u001b[1;32m      5\u001b[0m     \u001b[0;32mfor\u001b[0m \u001b[0mtag\u001b[0m \u001b[0;32min\u001b[0m \u001b[0mtqdm\u001b[0m\u001b[0;34m(\u001b[0m\u001b[0msoup\u001b[0m\u001b[0;34m.\u001b[0m\u001b[0mfindAll\u001b[0m\u001b[0;34m(\u001b[0m\u001b[0;34m'b'\u001b[0m\u001b[0;34m,\u001b[0m \u001b[0mtext\u001b[0m\u001b[0;34m=\u001b[0m\u001b[0;34m\"Department:\"\u001b[0m\u001b[0;34m)\u001b[0m\u001b[0;34m,\u001b[0m \u001b[0mdesc\u001b[0m\u001b[0;34m=\u001b[0m\u001b[0;34m\"IISER K\"\u001b[0m\u001b[0;34m)\u001b[0m\u001b[0;34m:\u001b[0m\u001b[0;34m\u001b[0m\u001b[0;34m\u001b[0m\u001b[0m\n",
      "\u001b[0;31mNameError\u001b[0m: name 'BeautifulSoup' is not defined"
     ]
    }
   ],
   "source": [
    "insti_names = ['iiser_k', 'iit_kgp']\n",
    "insti_data = [iiserk(), iitkgp()]"
   ]
  },
  {
   "cell_type": "code",
   "execution_count": 25,
   "id": "6f34371b-e8e2-44bb-8b08-817b9ba522e3",
   "metadata": {
    "execution": {
     "iopub.execute_input": "2022-02-22T14:07:52.528740Z",
     "iopub.status.busy": "2022-02-22T14:07:52.528320Z",
     "iopub.status.idle": "2022-02-22T14:07:52.540158Z",
     "shell.execute_reply": "2022-02-22T14:07:52.539057Z",
     "shell.execute_reply.started": "2022-02-22T14:07:52.528711Z"
    },
    "tags": []
   },
   "outputs": [
    {
     "ename": "NameError",
     "evalue": "name 'BeautifulSoup' is not defined",
     "output_type": "error",
     "traceback": [
      "\u001b[0;31m---------------------------------------------------------------------------\u001b[0m",
      "\u001b[0;31mNameError\u001b[0m                                 Traceback (most recent call last)",
      "\u001b[0;32m/tmp/ipykernel_1621/910705562.py\u001b[0m in \u001b[0;36m<module>\u001b[0;34m\u001b[0m\n\u001b[0;32m----> 1\u001b[0;31m \u001b[0miiserk\u001b[0m\u001b[0;34m(\u001b[0m\u001b[0;34m)\u001b[0m\u001b[0;34m\u001b[0m\u001b[0;34m\u001b[0m\u001b[0m\n\u001b[0m",
      "\u001b[0;32m~/storage/scientists_database/iiserk.py\u001b[0m in \u001b[0;36miiserk\u001b[0;34m()\u001b[0m\n\u001b[1;32m      1\u001b[0m \u001b[0;32mimport\u001b[0m \u001b[0mbs4\u001b[0m\u001b[0;34m\u001b[0m\u001b[0;34m\u001b[0m\u001b[0m\n\u001b[1;32m      2\u001b[0m \u001b[0;34m\u001b[0m\u001b[0m\n\u001b[0;32m----> 3\u001b[0;31m \u001b[0;32mclass\u001b[0m \u001b[0miiserk\u001b[0m\u001b[0;34m(\u001b[0m\u001b[0;34m)\u001b[0m\u001b[0;34m:\u001b[0m\u001b[0;34m\u001b[0m\u001b[0;34m\u001b[0m\u001b[0m\n\u001b[0m\u001b[1;32m      4\u001b[0m     \u001b[0;32mdef\u001b[0m \u001b[0m__init__\u001b[0m\u001b[0;34m(\u001b[0m\u001b[0mself\u001b[0m\u001b[0;34m)\u001b[0m\u001b[0;34m:\u001b[0m\u001b[0;34m\u001b[0m\u001b[0;34m\u001b[0m\u001b[0m\n\u001b[1;32m      5\u001b[0m         \u001b[0;32mpass\u001b[0m\u001b[0;34m\u001b[0m\u001b[0;34m\u001b[0m\u001b[0m\n",
      "\u001b[0;31mNameError\u001b[0m: name 'BeautifulSoup' is not defined"
     ]
    }
   ],
   "source": [
    "iiserk()"
   ]
  },
  {
   "cell_type": "code",
   "execution_count": null,
   "id": "4d151ebf-3a04-4e58-b55b-93ffd2332efb",
   "metadata": {},
   "outputs": [],
   "source": []
  }
 ],
 "metadata": {
  "kernelspec": {
   "display_name": "Python 3 (ipykernel)",
   "language": "python",
   "name": "python3"
  },
  "language_info": {
   "codemirror_mode": {
    "name": "ipython",
    "version": 3
   },
   "file_extension": ".py",
   "mimetype": "text/x-python",
   "name": "python",
   "nbconvert_exporter": "python",
   "pygments_lexer": "ipython3",
   "version": "3.9.7"
  }
 },
 "nbformat": 4,
 "nbformat_minor": 5
}
