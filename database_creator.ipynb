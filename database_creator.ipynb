{
 "cells": [
  {
   "cell_type": "markdown",
   "id": "31cb4a42-33a3-4a87-a31e-6eba13a95aa7",
   "metadata": {},
   "source": [
    "# Database Creator"
   ]
  },
  {
   "cell_type": "code",
   "execution_count": null,
   "id": "810cda9b-edb1-4c51-a1b0-531c1f83ed1a",
   "metadata": {
    "tags": []
   },
   "outputs": [],
   "source": [
    "# All imports go here\n",
    "\n",
    "import os\n",
    "import sys\n",
    "import requests\n",
    "from bs4 import BeautifulSoup\n",
    "import csv\n",
    "import wget\n",
    "import yaml\n",
    "import time\n",
    "\n",
    "# headings of each CSV file\n",
    "headings = ['Name', 'Institute', 'Designation', 'Homepage', 'Interests']\n",
    "\n",
    "# path of various files and folders\n",
    "folder = \"./physics_database/\"\n",
    "if not os.path.exists(folder): os.mkdir(folder)\n",
    "category_file = \"category_file.yml\"\n",
    "# if not os.path.exists(folder+category_file): define_cats()\n",
    "# categories = yaml.safe_load(open(folder + category_file, 'r'))"
   ]
  },
  {
   "cell_type": "markdown",
   "id": "f25b36c0-9d28-4367-a299-3834f42d2767",
   "metadata": {},
   "source": [
    "## Combine interest keywords into a single keyword dictionary"
   ]
  },
  {
   "cell_type": "code",
   "execution_count": null,
   "id": "063361d0-e446-4084-80a0-f8ad002aa443",
   "metadata": {
    "tags": []
   },
   "outputs": [],
   "source": [
    "def add_to_dict(results, dict_all):\n",
    "    for i, result in enumerate(results):\n",
    "        interests = result[-1]\n",
    "        result.append([])\n",
    "        for interest in interests:\n",
    "            # sanitise interest by changing space to _ and converting all to lower case\n",
    "            interest_sanitised = interest.replace('/', '_').replace(' ', '_').lower()\n",
    "            if interest_sanitised not in dict_all:\n",
    "                # create key if does not exist\n",
    "                dict_all[interest_sanitised] = [result[:-1]]\n",
    "            else:\n",
    "                dict_all[interest_sanitised].append(result[:-1])\n",
    "            for category, subcats in categories.items():\n",
    "                if category in result[-1]: continue\n",
    "                if interest_sanitised in subcats:\n",
    "                    fpath = folder + \"main-\" + category + \".csv\"\n",
    "                    if not os.path.exists(fpath): csv.writer(open(fpath, 'w'), delimiter='\\t').writerow(headings)\n",
    "                    csv.writer(open(fpath, 'a'), delimiter='\\t').writerow(result[:-1])\n",
    "                    result[-1].append(category)\n",
    "        results[i] = result\n",
    "    return results, dict_all"
   ]
  },
  {
   "cell_type": "markdown",
   "id": "2a50c460-d875-4c57-9877-2a72e8f9cdd0",
   "metadata": {},
   "source": [
    "## IIT Kharagpur Retriver"
   ]
  },
  {
   "cell_type": "code",
   "execution_count": null,
   "id": "73e7c16d-b006-42c9-b660-f07798defdde",
   "metadata": {
    "tags": []
   },
   "outputs": [],
   "source": [
    "def iitkgp():\n",
    "    #Get the faculty page using requests\n",
    "    page = requests.get('http://www.iitkgp.ac.in/department/PH/faculties')\n",
    "    #Parse it using Beautiful Soup\n",
    "    soup = BeautifulSoup(page.text, 'html.parser')\n",
    "    prof_details = []\n",
    "    #Scraping code\n",
    "    block = soup.find_all('div', attrs = {'class':'col-lg-12'})[2]\n",
    "    base_url = 'http://www.iitkgp.ac.in'\n",
    "    for i in block.findChildren('div', attrs = {'class':'col-lg-12'}):\n",
    "        print (len(prof_details))\n",
    "        for j in i.findChildren('div', attrs = {'class':'row'}):\n",
    "            prof_dict = {}\n",
    "            for k in j.findChildren('h3'):\n",
    "                prof_dict['Name'] = k.text.strip() #Get name of professor\n",
    "                prof_dict['Institute'] = 'IIT Kharagpur'\n",
    "            for l in j.findChildren('blockquote', attrs = {'class':'blockquote'}):\n",
    "                prof_dict['Research Area'] = ','.join([i.text.replace('\\xa0','').strip() for i in l.findChildren('li')]) #Get the research areas\n",
    "            prof_page = base_url+j.findNext('a')['href'].split(';')[0]\n",
    "            prof_dict['Webpage'] = prof_page #Get the contact detail of the Professor\n",
    "            prof_details.append(prof_dict) \n",
    "            time.sleep(0.5)\n",
    "            break\n",
    "    return prof_details\n",
    "\n",
    "iitkgp()"
   ]
  },
  {
   "cell_type": "markdown",
   "id": "d9bc6b95-05c9-44e0-84b5-5bcca73fd42e",
   "metadata": {},
   "source": [
    "## IISER-K Retriever"
   ]
  },
  {
   "cell_type": "code",
   "execution_count": null,
   "id": "8170da78-c5a3-4547-bb91-2c32f6892a5c",
   "metadata": {
    "tags": []
   },
   "outputs": [],
   "source": [
    "def iiserk():\n",
    "    url = \"https://www.iiserkol.ac.in/web/en/people/faculty/dps/#gsc.tab=0\"\n",
    "    soup = bsoup(requests.get(url).content, features='lxml')\n",
    "    results = []\n",
    "    for tag in soup.findAll('b', text=\"Department:\"):\n",
    "        parent = tag.findPrevious('td')\n",
    "        name = parent.findChild('a', attrs={'style':\"color:#0976e4;\"}).text.strip()\n",
    "        desig = parent.findChild('b', text=\"Department:\").findPrevious().previousSibling.strip()\n",
    "        try:\n",
    "            interests_string = parent.findChild('b', text=\"Research Area:\").nextSibling\n",
    "            delim = ';' if ';' in interests_string else ','\n",
    "            interests = [s.strip() for s in interests_string.split(delim)]\n",
    "        except:\n",
    "            interests = []\n",
    "        homepage = \"https://www.iiserkol.ac.in\" + tag.findPrevious('a')['href']\n",
    "        results.append([name, \"IISER Kolkata\", desig, homepage, interests])\n",
    "    return results"
   ]
  },
  {
   "cell_type": "markdown",
   "id": "6c6f2789-b5a7-4eba-bea4-34a34ee3c3cc",
   "metadata": {},
   "source": [
    "## Google Scholar Retriever"
   ]
  },
  {
   "cell_type": "code",
   "execution_count": null,
   "id": "e09df2e6-f187-43d9-addb-fffb60acdf0f",
   "metadata": {},
   "outputs": [],
   "source": [
    "def google_scholar():\n",
    "    \n",
    "    # URL to search for scientists. The keyword is 'physic', which will hopefully \n",
    "    # return most of the physics scientists. The Indian search is enforced through\n",
    "    # the domains .ac.in and .res.in. Currently searches only through first page,\n",
    "    # needs to be extended to all pages\n",
    "    \n",
    "    url = \"https://scholar.google.co.in/citations?hl=en&view_op=search_authors&mauthors=physic+%2B+.ac.in+%7C+.res.in&btnG=\"\n",
    "       \n",
    "    page = requests.get(url)\n",
    "    soup = bsoup(page.content, features='lxml')\n",
    "    results = {}\n",
    "    \n",
    "    count = 1\n",
    "    while soup != []:\n",
    "        print (\"G Scholar: Page\", count)\n",
    "        count += 1\n",
    "        \n",
    "        tags = soup.findAll('h3', attrs={'class': \"gs_ai_name\"})\n",
    "        if tags == []:\n",
    "            print (\"There's a problem.\")\n",
    "        for tag in tags:\n",
    "\n",
    "            # obtain name, affiliation, interests and homepage (if exists)\n",
    "            name = tag.text\n",
    "            link = \"https://scholar.google.com\"+tag.next['href']\n",
    "            author_soup = bsoup(requests.get(link).content, features='lxml')\n",
    "            affil_tag = author_soup.find('div', attrs={'class':\"gsc_prf_il\"})\n",
    "            affil = affil_tag.text\n",
    "            try:\n",
    "                homepage = author_soup.find('a', text = \"Homepage\")['href']\n",
    "            except:\n",
    "                homepage = \"\"\n",
    "            interests = [child.text for child in author_soup.find('div', attrs={'class':\"gsc_prf_il\", 'id':\"gsc_prf_int\"}).findChildren()]\n",
    "\n",
    "            data = [name, affil, affil, homepage, ', '.join(interests)]\n",
    "\n",
    "            # append data for this scientist to the dictionary\n",
    "            results = add_to_results(data, results)\n",
    "            \n",
    "        try:\n",
    "            next_btn = soup.find('button', attrs={'aria-label': \"Next\", 'class': \"gs_btnPR gs_in_ib gs_btn_half gs_btn_lsb gs_btn_srt gsc_pgn_pnx\"})\n",
    "            url = 'https://scholar.google.co.in' + str(next_btn['onclick']).replace('window.location=\\'', '')[:-1]\n",
    "            index = url.find(\"\\\\x\")\n",
    "            while index >= 0:\n",
    "                hexa = url[index+2:index+4]\n",
    "                actual = bytearray.fromhex(hexa).decode()\n",
    "                url = url.replace(\"\\\\x\"+hexa, actual)\n",
    "                index = url.find(\"\\\\x\")\n",
    "            page = requests.get(url)\n",
    "            soup = bsoup(page.content, features='lxml')\n",
    "        except:\n",
    "            soup = []\n",
    "        \n",
    "    return results"
   ]
  },
  {
   "cell_type": "markdown",
   "id": "1383d30d-f6f4-43da-8cbd-33ec9b83bbef",
   "metadata": {},
   "source": [
    "## IISc Retriever"
   ]
  },
  {
   "cell_type": "code",
   "execution_count": null,
   "id": "bddecac3-edba-486c-a458-152708713123",
   "metadata": {},
   "outputs": [],
   "source": [
    "def iisc():\n",
    "    results = {}\n",
    "    url_aap = \"http://www.physics.iisc.ac.in/~jap/people-fac.html\"\n",
    "    fname = \"file.html\"\n",
    "    os.system(\"wget \" + url_aap + \" -O \" + fname + \" >/dev/null 2>&1\")\n",
    "    soup = bsoup(open(fname, 'r'))\n",
    "    for tag in soup.findAll('div', attrs={'class': \"about-veno\"}):\n",
    "        name = tag.findNext('h3').text\n",
    "        desig = tag.findNext('h4').text\n",
    "        interests = str(list(tag.findNext('h5', text='Research Interests:').next_siblings)[0]).replace('\\n', '').strip().split('.')\n",
    "        homepage = tag.findNext('span', text='Web:').findNext('a')['href']\n",
    "        data = [name, \"IISc\", desig, homepage, ', '.join(interests)]\n",
    "\n",
    "        results = add_to_results(data, results)\n",
    "    os.system(\"rm \" + fname)\n",
    "    return results"
   ]
  },
  {
   "cell_type": "markdown",
   "id": "ae44840f-022e-47b8-844a-9f904c3e089b",
   "metadata": {},
   "source": [
    "# Dump results into files\n",
    "\n",
    "**WARNING: Existing files are overwritten at present.**"
   ]
  },
  {
   "cell_type": "code",
   "execution_count": null,
   "id": "97e13e82-6801-4f51-9c25-fc2cc3ebfaa7",
   "metadata": {
    "tags": []
   },
   "outputs": [],
   "source": [
    "dict_all = {}\n",
    "\n",
    "# obtain prof. data from all existing retrievers\n",
    "profs = []\n",
    "for results in [iiserk()]:\n",
    "    new_results, dict_all = add_to_dict(results, dict_all)   \n",
    "    profs += new_results\n",
    "    \n",
    "# write results of each keyword into separate csv files\n",
    "for key,val in dict_all.items():\n",
    "    csv_w = csv.writer(open(folder+key+\".csv\", 'w'), delimiter='\\t')\n",
    "    csv_w.writerow(headings)\n",
    "    csv_w.writerows(val)"
   ]
  },
  {
   "cell_type": "code",
   "execution_count": null,
   "id": "0fa963e9-9884-43ca-ad6d-a2267f143591",
   "metadata": {
    "tags": []
   },
   "outputs": [],
   "source": [
    "def define_cats():\n",
    "    categories = {\n",
    "        'Condensed Matter': [\"condensed_matter_physics_(experimental)\",\n",
    "                     \"carrier_dynamics_in_semiconductors\",\n",
    "                     \"quantum_magnetism\",\n",
    "                     \"strongly_correlated_electron_systems_and_magnetooptics\",\n",
    "                    \"experimental_condensed_matter_physics\",\n",
    "                    \"bose-einstein_condensates\",\n",
    "                    \"cold_fermions\",\n",
    "                    \"quantum_condensed_matter_physics\",\n",
    "                    \"strongly_correlated_electron_systems\",\n",
    "                    \"condensed_matter_(experiment)\",\n",
    "                    \"emergent_phenomena_in_low-dimensional_quantum_systems\",\n",
    "                    \"condensed_matter_theory\",\n",
    "                    \"soft_condensed_matter\",\n",
    "                    \"soft_condensed_matter_physics\",\n",
    "               ],\n",
    "        'Optics': [\"spectroscopy\", \n",
    "              \"ultrafast_optical_spectroscopy\", \n",
    "              \"nonlinear_optical_phenomena\", \n",
    "              \"optics_and_photonics\", \n",
    "              \"photoelectron-photoion_imaging_spectroscopy\", \n",
    "              \"optical_physics\", \n",
    "              \"ultrafast_spectroscopy\", \n",
    "              \"thz_spectroscopy\", \n",
    "              \"thz_metamaterials\", \n",
    "              \"nonlinear_optics_thz\",\n",
    "              \"plasmonics_and_nano_optics\",\n",
    "              \"polarization_optics\",\n",
    "              \"biophotonics\"\n",
    "             ],\n",
    "        'Quantum Information and Computation': [\"quantum_information_processing\",\n",
    "           \"quantum_information_and_quantum_computation\",\n",
    "           \"quantum_computation_and_quantum_information\",\n",
    "           ],\n",
    "        'High Energy Physics': [\"high_energy_physics\",\n",
    "                  ],\n",
    "        'Gravity and Cosmology': [\"gravitation_&amp\", \n",
    "               \"cosmology\", \n",
    "               \"gravitation_and_cosmology_(classical_and_quantum)\", \n",
    "               \"cosmology_and_its_connections_to_particle_physics\",\n",
    "              ],\n",
    "        'Quantum Mechanics': [\"quantum_phenomena\",\n",
    "                  \"non-equilibrium_quantum_dynamics\",\n",
    "                  \"quantum_transport\",\n",
    "                 ],\n",
    "        'Nonlinear Dynamics': [\"non-linear_dynamics\",\n",
    "           \"nonlinear_optical_phenomena\",\n",
    "           \"nonlinear_dynamics\",\n",
    "          ],\n",
    "        'Biophysics': [\"mathematical_and_theoretical_biology\", \n",
    "               \"computational_biology\", \n",
    "               \"biophysics_and_complex_systems\",\n",
    "               \"theoretical_biological_physics\",\n",
    "               \"biophotonics\",\n",
    "              ],\n",
    "        'Astrophysics and Astronomy': [\"space_science\",\n",
    "             \"astrophysics\",\n",
    "             \"astrophysical_magnetohydrodynamics\",\n",
    "            ],\n",
    "        'Material Science': [\"polymer_physics\", \n",
    "                        \"quantum_theory_of_functional_materials\",\n",
    "                       ],\n",
    "        'Statistical Physics': [\"statistical_physics\",\n",
    "                      \"nonequilibrium_statistical_physics\",\n",
    "                ],\n",
    "        'Others': [\"open_quantum_systems\",\n",
    "                   \"nmr\",\n",
    "                   \"physics\",\n",
    "                   \"polyelectrolyte_physics\",\n",
    "                   \"low_energy_electron-molecule_collisions\",\n",
    "                   \"surface_science\",\n",
    "                   \"weak_measurements\",\n",
    "                   \"magnetism_in_mesoscopic_systems_and_spintronics_application\",\n",
    "                   \"field_theory_and_wavelet_transform\",\n",
    "                 ]\n",
    "    }    \n",
    "\n",
    "    yaml.dump(categories, open(folder+category_file, 'w'))"
   ]
  },
  {
   "cell_type": "code",
   "execution_count": null,
   "id": "55a269d2-39b0-478f-ae92-05eaf9d252cb",
   "metadata": {},
   "outputs": [],
   "source": []
  }
 ],
 "metadata": {
  "kernelspec": {
   "display_name": "Python 3 (ipykernel)",
   "language": "python",
   "name": "python3"
  },
  "language_info": {
   "codemirror_mode": {
    "name": "ipython",
    "version": 3
   },
   "file_extension": ".py",
   "mimetype": "text/x-python",
   "name": "python",
   "nbconvert_exporter": "python",
   "pygments_lexer": "ipython3",
   "version": "3.9.7"
  }
 },
 "nbformat": 4,
 "nbformat_minor": 5
}
