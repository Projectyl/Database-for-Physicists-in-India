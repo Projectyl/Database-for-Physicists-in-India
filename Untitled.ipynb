{
 "cells": [
  {
   "cell_type": "code",
   "execution_count": 1,
   "id": "9ca389f1-3afd-48c2-9089-12e3a47159c1",
   "metadata": {},
   "outputs": [],
   "source": [
    "def add_to_results(data, results):\n",
    "    interests = data[-1]\n",
    "    for interest in interests:\n",
    "        # sanitise interest by changing space to\n",
    "        # _ and converting all to lower case\n",
    "        interest_sanitised = interest.replace(' ', '_').lower()\n",
    "\n",
    "        # create key if does not exist\n",
    "        if interest_sanitised not in results:\n",
    "            results[interest_sanitised] = [data]\n",
    "        else:\n",
    "            results[interest_sanitised].append(data)\n",
    "    return results"
   ]
  },
  {
   "cell_type": "code",
   "execution_count": 2,
   "id": "3a431c92-2ccc-4330-a683-52c0a4a14f39",
   "metadata": {},
   "outputs": [],
   "source": [
    "def iiserk():\n",
    "    url = \"https://www.iiserkol.ac.in/web/en/people/faculty/dps/#gsc.tab=0\"\n",
    "    soup = bsoup(requests.get(url).content, features='lxml')\n",
    "    results = {}\n",
    "    for tag in soup.findAll('b', text=\"Department:\"):\n",
    "        parent = tag.findPrevious('td')\n",
    "        # print (parent.findChild('a').findNext())\n",
    "        name = parent.findChild('a', attrs={'style':\"color:#0976e4;\"}).text.strip()\n",
    "        desig = parent.findChild('b', text=\"Department:\").findPrevious().previousSibling.strip()\n",
    "        try:\n",
    "            interests_string = parent.findChild('b', text=\"Research Area:\").nextSibling\n",
    "            delim = ';' if ';' in interests_string else ','\n",
    "            interests = [s.strip() for s in interests_string.split(delim)]\n",
    "        except:\n",
    "            interests = []\n",
    "        print (name, desig, interests)\n",
    "        homepage = \"https://www.iiserkol.ac.in\" + tag.findPrevious('a')['href']\n",
    "        data = [name, \"IISER-K\", desig, homepage, interests]\n",
    "        results = add_to_results(data, results)\n",
    "    return results"
   ]
  },
  {
   "cell_type": "markdown",
   "id": "f360343a-af0d-4893-8303-43ef8d26942b",
   "metadata": {},
   "source": [
    "## IISER-K Retriever"
   ]
  }
 ],
 "metadata": {
  "kernelspec": {
   "display_name": "Python 3 (ipykernel)",
   "language": "python",
   "name": "python3"
  },
  "language_info": {
   "codemirror_mode": {
    "name": "ipython",
    "version": 3
   },
   "file_extension": ".py",
   "mimetype": "text/x-python",
   "name": "python",
   "nbconvert_exporter": "python",
   "pygments_lexer": "ipython3",
   "version": "3.9.7"
  }
 },
 "nbformat": 4,
 "nbformat_minor": 5
}
