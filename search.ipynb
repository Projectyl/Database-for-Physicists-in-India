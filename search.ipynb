{
 "cells": [
  {
   "cell_type": "markdown",
   "id": "2ee7f6fb-5b42-4527-a08e-3fe4a80c4005",
   "metadata": {},
   "source": [
    "## Scientists Database Creator\n",
    "\n",
    "- The intention is to crawl through various website to create a database of (Indian) scientists working in physics and related fields\n",
    "\n",
    "- Results will be stored in the followng structure\n",
    "\n",
    "    ```\n",
    "project root\n",
    "|\n",
    "│   code.ipynb\n",
    "|\n",
    "└───database folder\n",
    "        |\n",
    "        │   high_energy_physics.csv\n",
    "        |\n",
    "        │   strongly_correlated_electrons.csv\n",
    "        |\n",
    "        │   quantum_magnetism.csv\n",
    "        |\n",
    "        |   low_dimensional_materials.csv\n",
    "```\n",
    "\n",
    "\n",
    "- Websites to crawl include google scholar and those of institutes like the IITs, IISERs, etc.\n",
    "\n",
    "- The code will be structured in the form of separate modules for each website.\n",
    "- Each module outputs results in a common format. This common format will be a dictionary, of the form\n",
    "\n",
    "`results={'complex_networks':[[Name 1, Affil 1, Webpage 1, Interests 1], [Name 2, Affil 2, Webpage 2, Interests 2]], 'quantum_magnetism':[[...]]}`\n",
    "\n",
    "- In other words, the keys of the dictionary are the interests, and the data of each key is a list. This list is itself formed by several lists, each of these smaller lists giving the information for a particular scientist. \n",
    "\n",
    "- Only the information of those scientits who have that particular interest will enter that particular key.\n",
    "\n",
    "- As an example, lets say the results are as follows. Scientist A1 with affiliation B1 has interests X1 and X2, while scientist A2 with affiliation B2 has interests X2 and X3. Then, the complete dictionary is `results={X1: [[A1, B1, \"X1, X2\"]], X2: [[A1, B1, \"X1, X2\"],[A2, B2, \"X2, X3\"]], X3: [[A2, B2, \"X2, X3\"]]}`\n",
    "\n",
    "- Each of these separate keys will be written to individual files, `X1.csv, X2.csv` and so on. \n",
    "\n",
    "- In each file, the first row will have the headers \"Name, Affiliation\", etc, and each of the subsequent rows will consist of the details of the scientists. Each scientist will occupy one complete row.\n",
    "\n",
    "- The delimiter has been chosen to be `'\\t'`, because comma is pretty common in the text."
   ]
  },
  {
   "cell_type": "code",
   "execution_count": null,
   "id": "434b0241-b8cd-4e62-9c8a-ae74244995b5",
   "metadata": {},
   "outputs": [],
   "source": []
  }
 ],
 "metadata": {
  "kernelspec": {
   "display_name": "Python 3 (ipykernel)",
   "language": "python",
   "name": "python3"
  },
  "language_info": {
   "codemirror_mode": {
    "name": "ipython",
    "version": 3
   },
   "file_extension": ".py",
   "mimetype": "text/x-python",
   "name": "python",
   "nbconvert_exporter": "python",
   "pygments_lexer": "ipython3",
   "version": "3.9.7"
  }
 },
 "nbformat": 4,
 "nbformat_minor": 5
}
